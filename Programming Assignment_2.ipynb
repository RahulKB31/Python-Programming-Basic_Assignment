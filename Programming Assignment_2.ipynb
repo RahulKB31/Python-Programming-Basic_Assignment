{
 "cells": [
  {
   "cell_type": "markdown",
   "metadata": {},
   "source": [
    "# Programming Assignment_2"
   ]
  },
  {
   "cell_type": "raw",
   "metadata": {},
   "source": [
    "1.Write a Python program to convert kilometers to miles?"
   ]
  },
  {
   "cell_type": "code",
   "execution_count": 3,
   "metadata": {},
   "outputs": [
    {
     "name": "stdout",
     "output_type": "stream",
     "text": [
      "Enter the distance in kilometer: 10\n",
      "\n",
      "Entered distance is equal to 6.215 miles.\n"
     ]
    }
   ],
   "source": [
    "distance = int(input(\"Enter the distance in kilometer: \"))\n",
    "\n",
    "dist = distance/1.609\n",
    "\n",
    "# Call str.format(*args) with \"{:.2f}\" as str and a float as *args to limit the float to two decimal places as a string.\n",
    "dist_m = \"{:.3f}\".format(dist)\n",
    "\n",
    "# dist_m = round(dist,2)\n",
    "\n",
    "print(f'\\nEntered distance is equal to {dist_m} miles.')"
   ]
  },
  {
   "cell_type": "raw",
   "metadata": {},
   "source": [
    "2.Write a Python program to convert Celsius to Fahrenheit?"
   ]
  },
  {
   "cell_type": "code",
   "execution_count": 4,
   "metadata": {},
   "outputs": [
    {
     "name": "stdout",
     "output_type": "stream",
     "text": [
      "Enter the degree in Celsius: 32\n",
      "\n",
      "Fahreheit: 89.6 F\n"
     ]
    }
   ],
   "source": [
    "C = int(input(\"Enter the degree in Celsius: \"))\n",
    "\n",
    "F = (C * (9/5)) + 32\n",
    "\n",
    "print(f'\\nFahreheit: {F} F')"
   ]
  },
  {
   "cell_type": "raw",
   "metadata": {},
   "source": [
    "3.Write a Python program to display calendar?"
   ]
  },
  {
   "cell_type": "code",
   "execution_count": 13,
   "metadata": {},
   "outputs": [
    {
     "name": "stdout",
     "output_type": "stream",
     "text": [
      "Enter Year: 2021\n",
      "Enter Month: 10\n",
      "\n",
      "    October 2021\n",
      "Mo Tu We Th Fr Sa Su\n",
      "             1  2  3\n",
      " 4  5  6  7  8  9 10\n",
      "11 12 13 14 15 16 17\n",
      "18 19 20 21 22 23 24\n",
      "25 26 27 28 29 30 31\n",
      "\n"
     ]
    }
   ],
   "source": [
    "import calendar\n",
    "\n",
    "yy = int(input(\"Enter Year: \"))\n",
    "xx = int(input(\"Enter Month: \"))\n",
    "print(\"\")\n",
    "\n",
    "print(calendar.month(yy,xx))"
   ]
  },
  {
   "cell_type": "raw",
   "metadata": {},
   "source": [
    "4.Write a Python program to solve quadratic equation?"
   ]
  },
  {
   "cell_type": "code",
   "execution_count": 15,
   "metadata": {},
   "outputs": [
    {
     "name": "stdout",
     "output_type": "stream",
     "text": [
      "Enter Value of a: 1\n",
      "Enter Value of b: 5\n",
      "Enter Value of c: 6\n",
      "The Solutions are : (-2+0j) and (-3+0j)\n"
     ]
    }
   ],
   "source": [
    "# ax2 + bx + c\n",
    "\n",
    "import cmath\n",
    "\n",
    "a = int(input(\"Enter Value of a: \"))\n",
    "b = int(input(\"Enter Value of b: \"))\n",
    "c = int(input(\"Enter Value of c: \"))\n",
    "\n",
    "d = b**2 - (4*a*c)\n",
    "\n",
    "x1 = (-b + cmath.sqrt(d) )/2*a\n",
    "x2 = (-b - cmath.sqrt(d) )/2*a\n",
    "\n",
    "print(f'The Solutions are : {x1} and {x2}')"
   ]
  },
  {
   "cell_type": "raw",
   "metadata": {},
   "source": [
    "5.Write a Python program to swap two variables without temp variable?"
   ]
  },
  {
   "cell_type": "code",
   "execution_count": 20,
   "metadata": {},
   "outputs": [
    {
     "name": "stdout",
     "output_type": "stream",
     "text": [
      "Before Swapping: \n",
      "Value of x: 5 and Value of y: 10\n",
      "After Swapping: \n",
      "Value of x: 10 and Value of y: 5\n"
     ]
    }
   ],
   "source": [
    "x = 5\n",
    "y = 10\n",
    "\n",
    "print(\"Before Swapping: \")\n",
    "print(f\"Value of x: {x} and Value of y: {y}\")\n",
    "\n",
    "x, y = y, x\n",
    "\n",
    "print(\"After Swapping: \")\n",
    "print(f\"Value of x: {x} and Value of y: {y}\")"
   ]
  },
  {
   "cell_type": "code",
   "execution_count": null,
   "metadata": {},
   "outputs": [],
   "source": []
  },
  {
   "cell_type": "code",
   "execution_count": null,
   "metadata": {},
   "outputs": [],
   "source": []
  }
 ],
 "metadata": {
  "kernelspec": {
   "display_name": "Python 3",
   "language": "python",
   "name": "python3"
  },
  "language_info": {
   "codemirror_mode": {
    "name": "ipython",
    "version": 3
   },
   "file_extension": ".py",
   "mimetype": "text/x-python",
   "name": "python",
   "nbconvert_exporter": "python",
   "pygments_lexer": "ipython3",
   "version": "3.8.5"
  }
 },
 "nbformat": 4,
 "nbformat_minor": 4
}
