{
 "cells": [
  {
   "cell_type": "markdown",
   "metadata": {},
   "source": [
    "# Programming Assignment_21"
   ]
  },
  {
   "cell_type": "code",
   "execution_count": 1,
   "metadata": {},
   "outputs": [],
   "source": [
    "#1) "
   ]
  },
  {
   "cell_type": "code",
   "execution_count": 2,
   "metadata": {},
   "outputs": [
    {
     "name": "stdout",
     "output_type": "stream",
     "text": [
      "[6, 7, 8, 9, 1]\n",
      "[6, 3, 23, 17, 10]\n",
      "[10, 20, 42, 6]\n",
      "No list has been selected\n"
     ]
    }
   ],
   "source": [
    "def next_in_line(lst, num):\n",
    "    if not lst:\n",
    "        return \"No list has been selected\"\n",
    "    \n",
    "    lst.pop(0)  # Remove the first element of the list\n",
    "    lst.append(num)  # Add the number to the end of the list\n",
    "    return lst\n",
    "\n",
    "# Test cases\n",
    "print(next_in_line([5, 6, 7, 8, 9], 1))  # ➞ [6, 7, 8, 9, 1]\n",
    "print(next_in_line([7, 6, 3, 23, 17], 10))  # ➞ [6, 3, 23, 17, 10]\n",
    "print(next_in_line([1, 10, 20, 42], 6))  # ➞ [10, 20, 42, 6]\n",
    "print(next_in_line([], 6))  # ➞ \"No list has been selected\""
   ]
  },
  {
   "cell_type": "code",
   "execution_count": 3,
   "metadata": {},
   "outputs": [],
   "source": [
    "#2)"
   ]
  },
  {
   "cell_type": "code",
   "execution_count": 4,
   "metadata": {},
   "outputs": [
    {
     "name": "stdout",
     "output_type": "stream",
     "text": [
      "65700\n",
      "62600\n"
     ]
    }
   ],
   "source": [
    "def get_budgets(lst):\n",
    "    total_budget = 0\n",
    "    for person in lst:\n",
    "        if \"budget\" in person:\n",
    "            total_budget += person[\"budget\"]\n",
    "    return total_budget\n",
    "\n",
    "# Test cases\n",
    "budgets1 = [\n",
    "    { \"name\": \"John\", \"age\": 21, \"budget\": 23000 },\n",
    "    { \"name\": \"Steve\", \"age\": 32, \"budget\": 40000 },\n",
    "    { \"name\": \"Martin\", \"age\": 16, \"budget\": 2700 }\n",
    "]\n",
    "print(get_budgets(budgets1))  # ➞ 65700\n",
    "\n",
    "budgets2 = [\n",
    "    { \"name\": \"John\", \"age\": 21, \"budget\": 29000 },\n",
    "    { \"name\": \"Steve\", \"age\": 32, \"budget\": 32000 },\n",
    "    { \"name\": \"Martin\", \"age\": 16, \"budget\": 1600 }\n",
    "]\n",
    "print(get_budgets(budgets2))  # ➞ 62600"
   ]
  },
  {
   "cell_type": "code",
   "execution_count": 5,
   "metadata": {},
   "outputs": [],
   "source": [
    "#3)"
   ]
  },
  {
   "cell_type": "code",
   "execution_count": 6,
   "metadata": {},
   "outputs": [
    {
     "name": "stdout",
     "output_type": "stream",
     "text": [
      "ehllo\n",
      "abdeit\n",
      "acehkr\n",
      "eegk\n",
      "aacijprstv\n"
     ]
    }
   ],
   "source": [
    "def alphabet_soup(s):\n",
    "    # Convert the string to a list of characters, sort it, and then join it back into a string\n",
    "    sorted_str = ''.join(sorted(s))\n",
    "    return sorted_str\n",
    "\n",
    "# Test cases\n",
    "print(alphabet_soup(\"hello\"))  # ➞ \"ehllo\"\n",
    "print(alphabet_soup(\"edabit\"))  # ➞ \"abdeit\"\n",
    "print(alphabet_soup(\"hacker\"))  # ➞ \"acehkr\"\n",
    "print(alphabet_soup(\"geek\"))  # ➞ \"eegk\"\n",
    "print(alphabet_soup(\"javascript\"))  # ➞ \"aacijprstv\"\n"
   ]
  },
  {
   "cell_type": "code",
   "execution_count": 7,
   "metadata": {},
   "outputs": [],
   "source": [
    "#4)"
   ]
  },
  {
   "cell_type": "code",
   "execution_count": 8,
   "metadata": {},
   "outputs": [
    {
     "name": "stdout",
     "output_type": "stream",
     "text": [
      "18193.97\n",
      "105.0\n",
      "15399.26\n",
      "2007316.26\n"
     ]
    }
   ],
   "source": [
    "def compound_interest(p, t, r, n):\n",
    "    # Calculate the compound interest\n",
    "    A = p * (1 + (r / n)) ** (n * t)\n",
    "    # Round the result to the nearest cent\n",
    "    A = round(A, 2)\n",
    "    return A\n",
    "\n",
    "# Test cases\n",
    "print(compound_interest(10000, 10, 0.06, 12))  # ➞ 18193.97\n",
    "print(compound_interest(100, 1, 0.05, 1))  # ➞ 105.0\n",
    "print(compound_interest(3500, 15, 0.1, 4))  # ➞ 15399.26\n",
    "print(compound_interest(100000, 20, 0.15, 365))  # ➞ 2007316.26"
   ]
  },
  {
   "cell_type": "code",
   "execution_count": 9,
   "metadata": {},
   "outputs": [],
   "source": [
    "#5)"
   ]
  },
  {
   "cell_type": "code",
   "execution_count": 10,
   "metadata": {},
   "outputs": [
    {
     "name": "stdout",
     "output_type": "stream",
     "text": [
      "[9, 2, 16]\n",
      "[81, 123]\n",
      "[10, 56, 20, 3]\n",
      "[True, 1]\n"
     ]
    }
   ],
   "source": [
    "def return_only_integer(lst):\n",
    "    # Use a list comprehension to filter integers from the input list\n",
    "    integers = [x for x in lst if isinstance(x, int)]\n",
    "    return integers\n",
    "\n",
    "# Test cases\n",
    "print(return_only_integer([9, 2, \"space\", \"car\", \"lion\", 16]))  # ➞ [9, 2, 16]\n",
    "print(return_only_integer([\"hello\", 81, \"basketball\", 123, \"fox\"]))  # ➞ [81, 123]\n",
    "print(return_only_integer([10, \"121\", 56, 20, \"car\", 3, \"lion\"]))  # ➞ [10, 56, 20, 3]\n",
    "print(return_only_integer([\"String\", True, 3.3, 1]))  # ➞ [1]"
   ]
  },
  {
   "cell_type": "code",
   "execution_count": null,
   "metadata": {},
   "outputs": [],
   "source": []
  }
 ],
 "metadata": {
  "kernelspec": {
   "display_name": "Python 3",
   "language": "python",
   "name": "python3"
  },
  "language_info": {
   "codemirror_mode": {
    "name": "ipython",
    "version": 3
   },
   "file_extension": ".py",
   "mimetype": "text/x-python",
   "name": "python",
   "nbconvert_exporter": "python",
   "pygments_lexer": "ipython3",
   "version": "3.8.5"
  }
 },
 "nbformat": 4,
 "nbformat_minor": 4
}
