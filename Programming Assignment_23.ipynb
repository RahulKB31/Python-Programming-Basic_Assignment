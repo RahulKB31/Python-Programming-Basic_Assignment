{
 "cells": [
  {
   "cell_type": "markdown",
   "metadata": {},
   "source": [
    "# Programming Assignment_23"
   ]
  },
  {
   "cell_type": "code",
   "execution_count": 1,
   "metadata": {},
   "outputs": [],
   "source": [
    "#1)"
   ]
  },
  {
   "cell_type": "code",
   "execution_count": 2,
   "metadata": {},
   "outputs": [
    {
     "name": "stdout",
     "output_type": "stream",
     "text": [
      "True\n",
      "False\n",
      "True\n",
      "False\n",
      "True\n"
     ]
    }
   ],
   "source": [
    "def is_symmetrical(num):\n",
    "    # Convert the number to a string to easily reverse it\n",
    "    num_str = str(num)\n",
    "    # Check if the string is equal to its reverse\n",
    "    return num_str == num_str[::-1]\n",
    "\n",
    "# Test cases\n",
    "print(is_symmetrical(7227))  # ➞ True\n",
    "print(is_symmetrical(12567))  # ➞ False\n",
    "print(is_symmetrical(44444444))  # ➞ True\n",
    "print(is_symmetrical(9939))  # ➞ False\n",
    "print(is_symmetrical(1112111))  # ➞ True"
   ]
  },
  {
   "cell_type": "code",
   "execution_count": 3,
   "metadata": {},
   "outputs": [],
   "source": [
    "#2)"
   ]
  },
  {
   "cell_type": "code",
   "execution_count": 4,
   "metadata": {},
   "outputs": [
    {
     "name": "stdout",
     "output_type": "stream",
     "text": [
      "6\n",
      "24\n",
      "0\n",
      "-20\n"
     ]
    }
   ],
   "source": [
    "def multiply_nums(nums_str):\n",
    "    # Split the input string into a list of numbers\n",
    "    num_list = [int(num) for num in nums_str.split(', ')]\n",
    "    \n",
    "    # Initialize the product to 1\n",
    "    product = 1\n",
    "    \n",
    "    # Calculate the product of the numbers in the list\n",
    "    for num in num_list:\n",
    "        product *= num\n",
    "    \n",
    "    return product\n",
    "\n",
    "# Test cases\n",
    "print(multiply_nums(\"2, 3\"))  # ➞ 6\n",
    "print(multiply_nums(\"1, 2, 3, 4\"))  # ➞ 24\n",
    "print(multiply_nums(\"54, 75, 453, 0\"))  # ➞ 0\n",
    "print(multiply_nums(\"10, -2\"))  # ➞ -20"
   ]
  },
  {
   "cell_type": "code",
   "execution_count": 5,
   "metadata": {},
   "outputs": [],
   "source": [
    "#3)"
   ]
  },
  {
   "cell_type": "code",
   "execution_count": 6,
   "metadata": {},
   "outputs": [
    {
     "name": "stdout",
     "output_type": "stream",
     "text": [
      "811181\n",
      "416649\n",
      "9414\n"
     ]
    }
   ],
   "source": [
    "def square_digits(num):\n",
    "    # Convert the number to a string to process each digit\n",
    "    num_str = str(num)\n",
    "    \n",
    "    # Initialize an empty string to store the squared digits\n",
    "    squared_str = \"\"\n",
    "    \n",
    "    # Iterate through each digit, square it, and append it to the result string\n",
    "    for digit in num_str:\n",
    "        squared_digit = int(digit) ** 2\n",
    "        squared_str += str(squared_digit)\n",
    "    \n",
    "    # Convert the squared string back to an integer\n",
    "    result = int(squared_str)\n",
    "    \n",
    "    return result\n",
    "\n",
    "# Test cases\n",
    "print(square_digits(9119))  # ➞ 811181\n",
    "print(square_digits(2483))  # ➞ 416649\n",
    "print(square_digits(3212))  # ➞ 9414"
   ]
  },
  {
   "cell_type": "code",
   "execution_count": 7,
   "metadata": {},
   "outputs": [],
   "source": [
    "#4)"
   ]
  },
  {
   "cell_type": "code",
   "execution_count": 8,
   "metadata": {},
   "outputs": [
    {
     "name": "stdout",
     "output_type": "stream",
     "text": [
      "[1, 3, 5]\n",
      "[4]\n",
      "[5, 7, 8, 9, 10, 15]\n",
      "[1, 2, 3]\n"
     ]
    }
   ],
   "source": [
    "def setify(lst):\n",
    "    # Convert the list to a set to remove duplicates, and then convert it back to a sorted list\n",
    "    result = sorted(list(set(lst)))\n",
    "    return result\n",
    "\n",
    "# Test cases\n",
    "print(setify([1, 3, 3, 5, 5]))  # ➞ [1, 3, 5]\n",
    "print(setify([4, 4, 4, 4]))  # ➞ [4]\n",
    "print(setify([5, 7, 8, 9, 10, 15]))  # ➞ [5, 7, 8, 9, 10, 15]\n",
    "print(setify([3, 3, 3, 2, 1]))  # ➞ [1, 2, 3]"
   ]
  },
  {
   "cell_type": "code",
   "execution_count": 9,
   "metadata": {},
   "outputs": [],
   "source": [
    "#5)"
   ]
  },
  {
   "cell_type": "code",
   "execution_count": 10,
   "metadata": {},
   "outputs": [
    {
     "name": "stdout",
     "output_type": "stream",
     "text": [
      "3\n",
      "3\n",
      "6\n"
     ]
    }
   ],
   "source": [
    "def mean(num):\n",
    "    # Convert the number to a string to iterate through its digits\n",
    "    num_str = str(num)\n",
    "    \n",
    "    # Calculate the sum of all digits and count the number of digits\n",
    "    digit_sum = sum(int(digit) for digit in num_str)\n",
    "    num_digits = len(num_str)\n",
    "    \n",
    "    # Calculate the mean by dividing the sum by the number of digits\n",
    "    result = digit_sum // num_digits\n",
    "    \n",
    "    return result\n",
    "\n",
    "# Test cases\n",
    "print(mean(42))  # ➞ 3\n",
    "print(mean(12345))  # ➞ 3\n",
    "print(mean(666))  # ➞ 6"
   ]
  },
  {
   "cell_type": "code",
   "execution_count": null,
   "metadata": {},
   "outputs": [],
   "source": []
  }
 ],
 "metadata": {
  "kernelspec": {
   "display_name": "Python 3",
   "language": "python",
   "name": "python3"
  },
  "language_info": {
   "codemirror_mode": {
    "name": "ipython",
    "version": 3
   },
   "file_extension": ".py",
   "mimetype": "text/x-python",
   "name": "python",
   "nbconvert_exporter": "python",
   "pygments_lexer": "ipython3",
   "version": "3.8.5"
  }
 },
 "nbformat": 4,
 "nbformat_minor": 4
}
