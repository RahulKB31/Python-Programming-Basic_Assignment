{
 "cells": [
  {
   "cell_type": "markdown",
   "metadata": {},
   "source": [
    "# Programming Assignment_22"
   ]
  },
  {
   "cell_type": "code",
   "execution_count": 1,
   "metadata": {},
   "outputs": [],
   "source": [
    "#1)"
   ]
  },
  {
   "cell_type": "code",
   "execution_count": 2,
   "metadata": {},
   "outputs": [
    {
     "name": "stdout",
     "output_type": "stream",
     "text": [
      "[3, 6, 9]\n",
      "[8]\n",
      "[]\n"
     ]
    }
   ],
   "source": [
    "def list_operation(x, y, n):\n",
    "    # Use a list comprehension to generate the list of divisible numbers\n",
    "    divisible_numbers = [num for num in range(x, y + 1) if num % n == 0]\n",
    "    return divisible_numbers\n",
    "\n",
    "# Test cases\n",
    "print(list_operation(1, 10, 3))  # ➞ [3, 6, 9]\n",
    "print(list_operation(7, 9, 2))   # ➞ [8]\n",
    "print(list_operation(15, 20, 7)) # ➞ []"
   ]
  },
  {
   "cell_type": "code",
   "execution_count": 3,
   "metadata": {},
   "outputs": [],
   "source": [
    "#2)"
   ]
  },
  {
   "cell_type": "code",
   "execution_count": 5,
   "metadata": {},
   "outputs": [
    {
     "name": "stdout",
     "output_type": "stream",
     "text": [
      "True\n",
      "False\n",
      "True\n",
      "False\n"
     ]
    }
   ],
   "source": [
    "def simon_says(list1, list2):\n",
    "    # Check if the second list is a right shift of the first list by one element\n",
    "    return list1[:-1] == list2[1:]\n",
    "\n",
    "# Test cases\n",
    "print(simon_says([1, 2], [5, 1]))  # ➞ True\n",
    "print(simon_says([1, 2], [5, 5]))  # ➞ False\n",
    "print(simon_says([1, 2, 3, 4, 5], [0, 1, 2, 3, 4]))  # ➞ True\n",
    "print(simon_says([1, 2, 3, 4, 5], [5, 5, 1, 2, 3]))  # ➞ False"
   ]
  },
  {
   "cell_type": "code",
   "execution_count": 6,
   "metadata": {},
   "outputs": [],
   "source": [
    "#3)"
   ]
  },
  {
   "cell_type": "code",
   "execution_count": 7,
   "metadata": {},
   "outputs": [
    {
     "name": "stdout",
     "output_type": "stream",
     "text": [
      "AMS\n",
      "CHLN\n",
      "CJMPRR\n"
     ]
    }
   ],
   "source": [
    "def society_name(names):\n",
    "    # Use a list comprehension to extract the first letter of each name\n",
    "    initials = [name[0] for name in names]\n",
    "    # Sort the initials alphabetically and join them into a single string\n",
    "    secret_name = ''.join(sorted(initials))\n",
    "    return secret_name\n",
    "\n",
    "# Test cases\n",
    "print(society_name([\"Adam\", \"Sarah\", \"Malcolm\"]))  # ➞ \"AMS\"\n",
    "print(society_name([\"Harry\", \"Newt\", \"Luna\", \"Cho\"]))  # ➞ \"CHLN\"\n",
    "print(society_name([\"Phoebe\", \"Chandler\", \"Rachel\", \"Ross\", \"Monica\", \"Joey\"]))  # ➞ \"CJMPRR\""
   ]
  },
  {
   "cell_type": "code",
   "execution_count": 8,
   "metadata": {},
   "outputs": [],
   "source": [
    "#4)"
   ]
  },
  {
   "cell_type": "code",
   "execution_count": 9,
   "metadata": {},
   "outputs": [
    {
     "name": "stdout",
     "output_type": "stream",
     "text": [
      "True\n",
      "False\n",
      "False\n"
     ]
    }
   ],
   "source": [
    "def is_isogram(word):\n",
    "    # Convert the word to lowercase to make it case-insensitive\n",
    "    word = word.lower()\n",
    "    \n",
    "    # Use a set to keep track of seen characters\n",
    "    seen_chars = set()\n",
    "\n",
    "    # Iterate through the characters in the word\n",
    "    for char in word:\n",
    "        # If the character is already in the set, it's not an isogram\n",
    "        if char in seen_chars:\n",
    "            return False\n",
    "        # Otherwise, add it to the set\n",
    "        seen_chars.add(char)\n",
    "\n",
    "    # If we reach this point, there are no duplicate characters, so it's an isogram\n",
    "    return True\n",
    "\n",
    "# Test cases\n",
    "print(is_isogram(\"Algorism\"))  # ➞ True\n",
    "print(is_isogram(\"PasSword\"))  # ➞ False\n",
    "print(is_isogram(\"Consecutive\"))  # ➞ False"
   ]
  },
  {
   "cell_type": "code",
   "execution_count": 10,
   "metadata": {},
   "outputs": [],
   "source": [
    "#5)"
   ]
  },
  {
   "cell_type": "code",
   "execution_count": 11,
   "metadata": {},
   "outputs": [
    {
     "name": "stdout",
     "output_type": "stream",
     "text": [
      "True\n",
      "False\n",
      "True\n",
      "True\n"
     ]
    }
   ],
   "source": [
    "def is_in_order(s):\n",
    "    # Check if the string is equal to its sorted version\n",
    "    return s == ''.join(sorted(s))\n",
    "\n",
    "# Test cases\n",
    "print(is_in_order(\"abc\"))  # ➞ True\n",
    "print(is_in_order(\"edabit\"))  # ➞ False\n",
    "print(is_in_order(\"123\"))  # ➞ True\n",
    "print(is_in_order(\"xyzz\"))  # ➞ True"
   ]
  },
  {
   "cell_type": "code",
   "execution_count": null,
   "metadata": {},
   "outputs": [],
   "source": []
  }
 ],
 "metadata": {
  "kernelspec": {
   "display_name": "Python 3",
   "language": "python",
   "name": "python3"
  },
  "language_info": {
   "codemirror_mode": {
    "name": "ipython",
    "version": 3
   },
   "file_extension": ".py",
   "mimetype": "text/x-python",
   "name": "python",
   "nbconvert_exporter": "python",
   "pygments_lexer": "ipython3",
   "version": "3.8.5"
  }
 },
 "nbformat": 4,
 "nbformat_minor": 4
}
