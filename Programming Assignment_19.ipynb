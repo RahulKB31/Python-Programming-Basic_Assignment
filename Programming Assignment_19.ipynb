{
 "cells": [
  {
   "cell_type": "markdown",
   "metadata": {},
   "source": [
    "# Programming Assignment_19"
   ]
  },
  {
   "cell_type": "code",
   "execution_count": 1,
   "metadata": {},
   "outputs": [],
   "source": [
    "#1)"
   ]
  },
  {
   "cell_type": "code",
   "execution_count": 2,
   "metadata": {},
   "outputs": [
    {
     "name": "stdout",
     "output_type": "stream",
     "text": [
      "SSttrriinngg\n",
      "HHeelllloo  WWoorrlldd!!\n",
      "11223344!!__  \n"
     ]
    }
   ],
   "source": [
    "def double_char(input_str):\n",
    "    doubled_str = \"\"\n",
    "    \n",
    "    for char in input_str:\n",
    "        doubled_str += char * 2\n",
    "    \n",
    "    return doubled_str\n",
    "\n",
    "# Examples\n",
    "print(double_char(\"String\"))         # Output: \"SSttrriinngg\"\n",
    "print(double_char(\"Hello World!\"))    # Output: \"HHeelllloo WWoorrlldd!!\"\n",
    "print(double_char(\"1234!_ \"))        # Output: \"11223344!!__ \""
   ]
  },
  {
   "cell_type": "code",
   "execution_count": 3,
   "metadata": {},
   "outputs": [],
   "source": [
    "#2)"
   ]
  },
  {
   "cell_type": "code",
   "execution_count": 4,
   "metadata": {},
   "outputs": [
    {
     "name": "stdout",
     "output_type": "stream",
     "text": [
      "False\n",
      "True\n",
      "boolean expected\n",
      "boolean expected\n"
     ]
    }
   ],
   "source": [
    "def reverse(arg):\n",
    "    if isinstance(arg, bool):\n",
    "        return not arg\n",
    "    else:\n",
    "        return \"boolean expected\"\n",
    "\n",
    "# Examples\n",
    "print(reverse(True))   # Output: False\n",
    "print(reverse(False))  # Output: True\n",
    "print(reverse(0))      # Output: \"boolean expected\"\n",
    "print(reverse(None))   # Output: \"boolean expected\""
   ]
  },
  {
   "cell_type": "code",
   "execution_count": 5,
   "metadata": {},
   "outputs": [],
   "source": [
    "#3)"
   ]
  },
  {
   "cell_type": "code",
   "execution_count": 6,
   "metadata": {},
   "outputs": [
    {
     "name": "stdout",
     "output_type": "stream",
     "text": [
      "0.001m\n",
      "0.008m\n",
      "1048.576m\n"
     ]
    }
   ],
   "source": [
    "def num_layers(n):\n",
    "    # Initial thickness of the paper in millimeters\n",
    "    thickness_mm = 0.5\n",
    "    \n",
    "    # Calculate the thickness after folding n times\n",
    "    folded_thickness_mm = thickness_mm * (2 ** n)\n",
    "    \n",
    "    # Convert the thickness to meters and format the result\n",
    "    folded_thickness_m = folded_thickness_mm / 1000\n",
    "    formatted_thickness = \"{:.3f}m\".format(folded_thickness_m)\n",
    "    \n",
    "    return formatted_thickness\n",
    "\n",
    "# Examples\n",
    "print(num_layers(1))   # Output: \"0.001m\"\n",
    "print(num_layers(4))   # Output: \"0.008m\"\n",
    "print(num_layers(21))  # Output: \"1048.576m\""
   ]
  },
  {
   "cell_type": "code",
   "execution_count": null,
   "metadata": {},
   "outputs": [],
   "source": [
    "#4)"
   ]
  },
  {
   "cell_type": "code",
   "execution_count": 7,
   "metadata": {},
   "outputs": [
    {
     "name": "stdout",
     "output_type": "stream",
     "text": [
      "[1, 3, 5]\n",
      "[1, 3, 4, 6]\n",
      "[]\n",
      "[0, 1, 2, 3, 4, 5]\n",
      "[1]\n"
     ]
    }
   ],
   "source": [
    "def index_of_caps(word):\n",
    "    indices = [i for i, char in enumerate(word) if char.isupper()]\n",
    "    return indices\n",
    "\n",
    "# Examples\n",
    "print(index_of_caps(\"eDaBiT\"))    # Output: [1, 3, 5]\n",
    "print(index_of_caps(\"eQuINoX\"))   # Output: [1, 3, 4, 6]\n",
    "print(index_of_caps(\"determine\"))  # Output: []\n",
    "print(index_of_caps(\"STRIKE\"))    # Output: [0, 1, 2, 3, 4, 5]\n",
    "print(index_of_caps(\"sUn\"))       # Output: [1]"
   ]
  },
  {
   "cell_type": "code",
   "execution_count": 8,
   "metadata": {},
   "outputs": [],
   "source": [
    "#5)"
   ]
  },
  {
   "cell_type": "code",
   "execution_count": 9,
   "metadata": {},
   "outputs": [
    {
     "name": "stdout",
     "output_type": "stream",
     "text": [
      "[2, 4, 6, 8]\n",
      "[2, 4]\n",
      "[2]\n"
     ]
    }
   ],
   "source": [
    "def find_even_nums(n):\n",
    "    return [i for i in range(2, n + 1, 2)]\n",
    "\n",
    "# Examples\n",
    "print(find_even_nums(8))  # Output: [2, 4, 6, 8]\n",
    "print(find_even_nums(4))  # Output: [2, 4]\n",
    "print(find_even_nums(2))  # Output: [2]"
   ]
  },
  {
   "cell_type": "code",
   "execution_count": null,
   "metadata": {},
   "outputs": [],
   "source": []
  }
 ],
 "metadata": {
  "kernelspec": {
   "display_name": "Python 3",
   "language": "python",
   "name": "python3"
  },
  "language_info": {
   "codemirror_mode": {
    "name": "ipython",
    "version": 3
   },
   "file_extension": ".py",
   "mimetype": "text/x-python",
   "name": "python",
   "nbconvert_exporter": "python",
   "pygments_lexer": "ipython3",
   "version": "3.8.5"
  }
 },
 "nbformat": 4,
 "nbformat_minor": 4
}
