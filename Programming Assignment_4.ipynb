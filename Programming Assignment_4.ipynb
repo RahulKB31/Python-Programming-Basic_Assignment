{
 "cells": [
  {
   "cell_type": "markdown",
   "metadata": {},
   "source": [
    "# Programming Assignment_4"
   ]
  },
  {
   "cell_type": "raw",
   "metadata": {},
   "source": [
    "1.Write a Python Program to Find the Factorial of a Number?"
   ]
  },
  {
   "cell_type": "code",
   "execution_count": 4,
   "metadata": {},
   "outputs": [
    {
     "name": "stdout",
     "output_type": "stream",
     "text": [
      "Enter a Number10\n",
      "\n",
      "The factorial of 10 is 3628800\n"
     ]
    }
   ],
   "source": [
    "num = int(input(\"Enter a Number\"))\n",
    "\n",
    "factorial = 1\n",
    "\n",
    "if num<0:\n",
    "    print(\"Factorial does not exist for negative numbers\")\n",
    "elif num==0:\n",
    "    print(\"Factotial of 0 is 1\")\n",
    "else:\n",
    "    for i in range(1,num+1):\n",
    "        factorial = factorial*i\n",
    "        \n",
    "    print(f'\\nThe factorial of {num} is {factorial}')"
   ]
  },
  {
   "cell_type": "code",
   "execution_count": 6,
   "metadata": {},
   "outputs": [
    {
     "name": "stdout",
     "output_type": "stream",
     "text": [
      "The factorial of 10 is 3628800\n"
     ]
    }
   ],
   "source": [
    "import math\n",
    "\n",
    "def fact(num):\n",
    "    return(math.factorial(num))\n",
    "\n",
    "f = fact(10)\n",
    "print(f'The factorial of 10 is {f}')"
   ]
  },
  {
   "cell_type": "raw",
   "metadata": {},
   "source": [
    "2.Write a Python Program to Display the multiplication Table?"
   ]
  },
  {
   "cell_type": "code",
   "execution_count": 13,
   "metadata": {},
   "outputs": [
    {
     "name": "stdout",
     "output_type": "stream",
     "text": [
      "Enter the Number: 10\n",
      "\n",
      "10 * 1 = 10\n",
      "10 * 2 = 20\n",
      "10 * 3 = 30\n",
      "10 * 4 = 40\n",
      "10 * 5 = 50\n",
      "10 * 6 = 60\n",
      "10 * 7 = 70\n",
      "10 * 8 = 80\n",
      "10 * 9 = 90\n",
      "10 * 10 = 100\n"
     ]
    }
   ],
   "source": [
    "num = int(input(\"Enter the Number: \"))\n",
    "print(\"\")\n",
    "for i in range(1,11):\n",
    "    print(f'{num} * {i} = {num*i}')"
   ]
  },
  {
   "cell_type": "raw",
   "metadata": {},
   "source": [
    "3.Write a Python Program to Print the Fibonacci sequence?"
   ]
  },
  {
   "cell_type": "code",
   "execution_count": 14,
   "metadata": {},
   "outputs": [
    {
     "name": "stdout",
     "output_type": "stream",
     "text": [
      "Enter the Number10\n",
      "0\n",
      "1\n",
      "1\n",
      "2\n",
      "3\n",
      "5\n",
      "8\n",
      "13\n",
      "21\n",
      "34\n"
     ]
    }
   ],
   "source": [
    "nterms = int(input(\"Enter the Number\"))\n",
    "\n",
    "n1,n2 = 0,1\n",
    "count = 0\n",
    "\n",
    "if nterms<=0:\n",
    "    print(\"Enter a Positive Integer\")\n",
    "elif nterms==1:\n",
    "    print(f\"Fibonacci Sequence Upto {nterms}: {n1}\")\n",
    "else:\n",
    "    while count<nterms:\n",
    "        print(n1)\n",
    "        nth = n1 + n2\n",
    "        n1 = n2\n",
    "        n2 = nth\n",
    "        count += 1"
   ]
  },
  {
   "cell_type": "raw",
   "metadata": {},
   "source": [
    "4.Write a Python Program to Check Armstrong Number?"
   ]
  },
  {
   "cell_type": "code",
   "execution_count": 17,
   "metadata": {},
   "outputs": [
    {
     "name": "stdout",
     "output_type": "stream",
     "text": [
      "Enter a number: 123\n",
      "123 is not an Armstrong number\n"
     ]
    }
   ],
   "source": [
    "# In case of an Armstrong number of 3 digits, the sum of cubes of each digit is equal to the number itself. \n",
    "\n",
    "num = int(input(\"Enter a number: \"))\n",
    "\n",
    "sum = 0\n",
    "\n",
    "# find the sum of the cube of each digit\n",
    "temp = num\n",
    "while temp > 0:\n",
    "    digit = temp % 10\n",
    "    sum += digit ** 3\n",
    "    temp //= 10\n",
    "\n",
    "# display the result\n",
    "if num == sum:\n",
    "    print(num,\"is an Armstrong number\")\n",
    "else:\n",
    "    print(num,\"is not an Armstrong number\")"
   ]
  },
  {
   "cell_type": "code",
   "execution_count": 33,
   "metadata": {},
   "outputs": [
    {
     "name": "stdout",
     "output_type": "stream",
     "text": [
      "153 is a Armstrong Number\n"
     ]
    }
   ],
   "source": [
    "import math\n",
    "\n",
    "num = 153\n",
    "\n",
    "n1 = str(num)\n",
    "n = int(len(n1))\n",
    "m1 = []\n",
    "\n",
    "for i in n1:\n",
    "    m = math.pow(int(i),n)\n",
    "    m1.append(m)\n",
    "\n",
    "if math.fsum(m1)==num:\n",
    "    print(num,'is a Armstrong Number')\n",
    "else:\n",
    "    print(num,'is not a Armstrong Number')"
   ]
  },
  {
   "cell_type": "raw",
   "metadata": {},
   "source": [
    "5.Write a Python Program to Find Armstrong Number in an Interval?"
   ]
  },
  {
   "cell_type": "code",
   "execution_count": 44,
   "metadata": {},
   "outputs": [
    {
     "name": "stdout",
     "output_type": "stream",
     "text": [
      "153\n",
      "370\n",
      "371\n",
      "407\n"
     ]
    }
   ],
   "source": [
    "lower = 100\n",
    "upper = 1000\n",
    "\n",
    "for num in range(lower,upper+1):\n",
    "    order = len(str(num))\n",
    "    sum = 0\n",
    "    \n",
    "    temp = num\n",
    "    while temp>0:\n",
    "        digit = temp%10\n",
    "        sum = sum + (digit**order)\n",
    "        temp = temp//10\n",
    "        \n",
    "    if num == sum:\n",
    "        print(num)"
   ]
  },
  {
   "cell_type": "raw",
   "metadata": {},
   "source": [
    "6.Write a Python Program to Find the Sum of Natural Numbers?"
   ]
  },
  {
   "cell_type": "code",
   "execution_count": 47,
   "metadata": {},
   "outputs": [
    {
     "name": "stdout",
     "output_type": "stream",
     "text": [
      "The sum is: 210\n"
     ]
    }
   ],
   "source": [
    "num = 20\n",
    "\n",
    "if num<0:\n",
    "    print(\"Enter a Positive Number\")\n",
    "else:\n",
    "    sum = 0\n",
    "    while num>0:\n",
    "        sum = sum + num\n",
    "        num = num - 1\n",
    "    print(\"The sum is:\",sum)"
   ]
  },
  {
   "cell_type": "code",
   "execution_count": null,
   "metadata": {},
   "outputs": [],
   "source": []
  },
  {
   "cell_type": "code",
   "execution_count": null,
   "metadata": {},
   "outputs": [],
   "source": []
  }
 ],
 "metadata": {
  "kernelspec": {
   "display_name": "Python 3",
   "language": "python",
   "name": "python3"
  },
  "language_info": {
   "codemirror_mode": {
    "name": "ipython",
    "version": 3
   },
   "file_extension": ".py",
   "mimetype": "text/x-python",
   "name": "python",
   "nbconvert_exporter": "python",
   "pygments_lexer": "ipython3",
   "version": "3.8.5"
  }
 },
 "nbformat": 4,
 "nbformat_minor": 4
}
