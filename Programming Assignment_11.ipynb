{
 "cells": [
  {
   "cell_type": "markdown",
   "metadata": {},
   "source": [
    "# Programming Assignment_11"
   ]
  },
  {
   "cell_type": "raw",
   "metadata": {},
   "source": [
    "1.\tWrite a Python program to find words which are greater than given length k?"
   ]
  },
  {
   "cell_type": "code",
   "execution_count": 11,
   "metadata": {},
   "outputs": [
    {
     "name": "stdout",
     "output_type": "stream",
     "text": [
      "['this', 'python', 'basic', 'programming']\n"
     ]
    }
   ],
   "source": [
    "def string_k(k, str):\n",
    "    string = []\n",
    "    \n",
    "    text = str.split(\" \")\n",
    "    \n",
    "    for x in text:\n",
    "        if len(x)>k:\n",
    "            string.append(x)\n",
    "            \n",
    "    return string\n",
    "\n",
    "k = 3\n",
    "str = \"this is python basic programming\"\n",
    "print(string_k(k, str))"
   ]
  },
  {
   "cell_type": "raw",
   "metadata": {},
   "source": [
    "2.\tWrite a Python program for removing i-th character from a string?"
   ]
  },
  {
   "cell_type": "code",
   "execution_count": 16,
   "metadata": {},
   "outputs": [
    {
     "name": "stdout",
     "output_type": "stream",
     "text": [
      "ths is python basic programming\n"
     ]
    }
   ],
   "source": [
    "def remove(string, i):\n",
    "    \n",
    "    for j in range(len(string)):\n",
    "        if j == i:\n",
    "            string = string.replace(string[i],\"\",1)\n",
    "    return(string)\n",
    "\n",
    "\n",
    "if __name__ == '__main__':\n",
    "    string = 'this is python basic programming'\n",
    "    \n",
    "    i=5\n",
    "    print(remove(string,i))"
   ]
  },
  {
   "cell_type": "raw",
   "metadata": {},
   "source": [
    "3.\tWrite a Python program to split and join a string?"
   ]
  },
  {
   "cell_type": "code",
   "execution_count": 19,
   "metadata": {},
   "outputs": [
    {
     "name": "stdout",
     "output_type": "stream",
     "text": [
      "['This', 'is', 'a', 'basic', 'Python', 'Programme']\n",
      "This-is-a-basic-Python-Programme\n"
     ]
    }
   ],
   "source": [
    "def split_string(string):\n",
    "    list_string = string.split(' ')\n",
    "    \n",
    "    return list_string\n",
    "\n",
    "def join_string(list_string):\n",
    "    string = '-'.join(list_string)\n",
    "    \n",
    "    return string\n",
    "\n",
    "\n",
    "if __name__ == '__main__':\n",
    "    string = \"This is a basic Python Programme\"\n",
    "    \n",
    "    list_string = split_string(string)\n",
    "    print(list_string)\n",
    "    \n",
    "    #new_String = join_string(list_string)\n",
    "    print(join_string(list_string))"
   ]
  },
  {
   "cell_type": "raw",
   "metadata": {},
   "source": [
    "4.\tWrite a Python to check if a given string is binary string or not?"
   ]
  },
  {
   "cell_type": "code",
   "execution_count": 20,
   "metadata": {},
   "outputs": [
    {
     "name": "stdout",
     "output_type": "stream",
     "text": [
      "Yes\n"
     ]
    }
   ],
   "source": [
    "def check(string):\n",
    "    p = set(string)\n",
    "    \n",
    "    s = {'0','1'}\n",
    "    \n",
    "    if s==p or p=={'0'} or p == {'1'}:\n",
    "        print('Yes')\n",
    "    else:\n",
    "        print('No')\n",
    "        \n",
    "if __name__ == '__main__':\n",
    "    string = '00101010101010000'\n",
    "    \n",
    "    check(string)"
   ]
  },
  {
   "cell_type": "raw",
   "metadata": {},
   "source": [
    "5.\tWrite a Python program to find uncommon words from two Strings?"
   ]
  },
  {
   "cell_type": "code",
   "execution_count": 22,
   "metadata": {},
   "outputs": [
    {
     "name": "stdout",
     "output_type": "stream",
     "text": [
      "['Banana', 'Fruits,', 'Apple,', 'Orange']\n"
     ]
    }
   ],
   "source": [
    "def UncommonWords(A,B):\n",
    "    count = {}\n",
    "    \n",
    "    for word in A.split():\n",
    "        count[word] = count.get(word,0) + 1\n",
    "        \n",
    "    for word in B.split():\n",
    "        count[word] = count.get(word,0) + 1\n",
    "        \n",
    "    return [word for word in count if count[word] == 1]\n",
    "\n",
    "A = \"Apple Banana Apple\"\n",
    "B = \"Fruits, Apple, Orange\"\n",
    "\n",
    "print(UncommonWords(A,B))"
   ]
  },
  {
   "cell_type": "raw",
   "metadata": {},
   "source": [
    "6.\tWrite a Python to find all duplicate characters in string?"
   ]
  },
  {
   "cell_type": "code",
   "execution_count": 50,
   "metadata": {},
   "outputs": [
    {
     "name": "stdout",
     "output_type": "stream",
     "text": [
      "['A', 'p', 'l', 'e', ' ', 'a', 'n']\n"
     ]
    }
   ],
   "source": [
    "def duplicate_char(s):\n",
    "    elements = {}\n",
    "    for char in s:\n",
    "        if elements.get(char,None) != None:\n",
    "            elements[char]+=1\n",
    "            \n",
    "        else:\n",
    "            elements[char] = 1\n",
    "            \n",
    "    return [k for k,v in elements.items() if v>1]\n",
    "\n",
    "string =\"Apple Banana Apple\"\n",
    "print(duplicate_char(string))"
   ]
  },
  {
   "cell_type": "raw",
   "metadata": {},
   "source": [
    "7.\tWrite a Python Program to check if a string contains any special character?"
   ]
  },
  {
   "cell_type": "code",
   "execution_count": 68,
   "metadata": {},
   "outputs": [
    {
     "name": "stdout",
     "output_type": "stream",
     "text": [
      "String Contains Special Characters\n"
     ]
    }
   ],
   "source": [
    "import re\n",
    "\n",
    "def run(string):\n",
    "    regex = re.compile('[@_!#$%^&*()<>?/\\|}{~:]')\n",
    "    \n",
    "    if(regex.search(string) != None):\n",
    "        print(\"String Contains Special Characters\")\n",
    "        \n",
    "    else:\n",
    "        print(\"String doesn't contain special characters\")\n",
    "        \n",
    "if __name__ == '__main__':\n",
    "    string = \"Apple@Banana@Apple\"\n",
    "run(string)"
   ]
  },
  {
   "cell_type": "code",
   "execution_count": null,
   "metadata": {},
   "outputs": [],
   "source": []
  },
  {
   "cell_type": "code",
   "execution_count": null,
   "metadata": {},
   "outputs": [],
   "source": []
  }
 ],
 "metadata": {
  "kernelspec": {
   "display_name": "Python 3",
   "language": "python",
   "name": "python3"
  },
  "language_info": {
   "codemirror_mode": {
    "name": "ipython",
    "version": 3
   },
   "file_extension": ".py",
   "mimetype": "text/x-python",
   "name": "python",
   "nbconvert_exporter": "python",
   "pygments_lexer": "ipython3",
   "version": "3.8.5"
  }
 },
 "nbformat": 4,
 "nbformat_minor": 4
}
