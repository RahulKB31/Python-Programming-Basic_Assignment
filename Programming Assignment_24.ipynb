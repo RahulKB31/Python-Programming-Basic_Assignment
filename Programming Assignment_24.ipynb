{
 "cells": [
  {
   "cell_type": "markdown",
   "metadata": {},
   "source": [
    "# Programming Assignment_24"
   ]
  },
  {
   "cell_type": "code",
   "execution_count": 1,
   "metadata": {},
   "outputs": [],
   "source": [
    "#1)"
   ]
  },
  {
   "cell_type": "code",
   "execution_count": 2,
   "metadata": {},
   "outputs": [
    {
     "name": "stdout",
     "output_type": "stream",
     "text": [
      "[1, 2, 3, 40]\n",
      "[1, 2, 3]\n",
      "[1, 2, 3, 40, 5, 6, 7, 80, 9, 10, 11, 120, 13, 14, 15, 160, 17, 18, 19, 200, 21, 22, 23, 240, 25]\n"
     ]
    }
   ],
   "source": [
    "def amplify(n):\n",
    "    # Use a list comprehension to generate the list of numbers\n",
    "    result = [(num * 10) if num % 4 == 0 else num for num in range(1, n + 1)]\n",
    "    return result\n",
    "\n",
    "# Test cases\n",
    "print(amplify(4))  # ➞ [1, 2, 3, 40]\n",
    "print(amplify(3))  # ➞ [1, 2, 3]\n",
    "print(amplify(25))  # ➞ [1, 2, 3, 40, 5, 6, 7, 80, 9, 10, 11, 120, 13, 14, 15, 160, 17, 18, 19, 200, 21, 22, 23, 240, 25]"
   ]
  },
  {
   "cell_type": "code",
   "execution_count": 3,
   "metadata": {},
   "outputs": [],
   "source": [
    "#2)"
   ]
  },
  {
   "cell_type": "code",
   "execution_count": 4,
   "metadata": {},
   "outputs": [
    {
     "name": "stdout",
     "output_type": "stream",
     "text": [
      "7\n",
      "0.77\n",
      "0\n"
     ]
    }
   ],
   "source": [
    "def unique(numbers):\n",
    "    # Create a dictionary to count the occurrences of each number\n",
    "    count_dict = {}\n",
    "    \n",
    "    # Count the occurrences of each number in the list\n",
    "    for num in numbers:\n",
    "        if num in count_dict:\n",
    "            count_dict[num] += 1\n",
    "        else:\n",
    "            count_dict[num] = 1\n",
    "    \n",
    "    # Find the unique number by checking the counts\n",
    "    for num, count in count_dict.items():\n",
    "        if count == 1:\n",
    "            return num\n",
    "\n",
    "# Test cases\n",
    "print(unique([3, 3, 3, 7, 3, 3]))  # ➞ 7\n",
    "print(unique([0, 0, 0.77, 0, 0]))  # ➞ 0.77\n",
    "print(unique([0, 1, 1, 1, 1, 1, 1, 1]))  # ➞ 0"
   ]
  },
  {
   "cell_type": "code",
   "execution_count": 5,
   "metadata": {},
   "outputs": [],
   "source": [
    "#3)"
   ]
  },
  {
   "cell_type": "code",
   "execution_count": 6,
   "metadata": {},
   "outputs": [
    {
     "name": "stdout",
     "output_type": "stream",
     "text": [
      "380\n",
      "28\n"
     ]
    }
   ],
   "source": [
    "import math\n",
    "\n",
    "class Circle:\n",
    "    def __init__(self, radius):\n",
    "        self.radius = radius\n",
    "\n",
    "    def getArea(self):\n",
    "        # Calculate the area of the circle using the formula PI * r^2\n",
    "        area = math.pi * self.radius ** 2\n",
    "        # Round the result up to the nearest integer\n",
    "        return round(area)\n",
    "\n",
    "    def getPerimeter(self):\n",
    "        # Calculate the perimeter of the circle using the formula 2 * PI * r\n",
    "        perimeter = 2 * math.pi * self.radius\n",
    "        # Round the result up to the nearest integer\n",
    "        return round(perimeter)\n",
    "\n",
    "# Test cases\n",
    "circy = Circle(11)\n",
    "print(circy.getArea())  # Should return 380\n",
    "circy = Circle(4.44)\n",
    "print(circy.getPerimeter())  # Should return 28"
   ]
  },
  {
   "cell_type": "code",
   "execution_count": 7,
   "metadata": {},
   "outputs": [],
   "source": [
    "#4)"
   ]
  },
  {
   "cell_type": "code",
   "execution_count": 8,
   "metadata": {},
   "outputs": [
    {
     "name": "stdout",
     "output_type": "stream",
     "text": [
      "['Apple', 'Google', 'Microsoft']\n",
      "['Raphael', 'Leonardo', 'Donatello', 'Michelangelo']\n",
      "['Jung', 'Turing', 'Einstein']\n"
     ]
    }
   ],
   "source": [
    "def sort_by_length(lst):\n",
    "    # Sort the list of strings based on their lengths\n",
    "    sorted_list = sorted(lst, key=len)\n",
    "    return sorted_list\n",
    "\n",
    "# Test cases\n",
    "print(sort_by_length([\"Google\", \"Apple\", \"Microsoft\"]))  # ➞ [\"Apple\", \"Google\", \"Microsoft\"]\n",
    "print(sort_by_length([\"Leonardo\", \"Michelangelo\", \"Raphael\", \"Donatello\"]))  # ➞ [\"Raphael\", \"Leonardo\", \"Donatello\", \"Michelangelo\"]\n",
    "print(sort_by_length([\"Turing\", \"Einstein\", \"Jung\"]))  # ➞ [\"Jung\", \"Turing\", \"Einstein\"]"
   ]
  },
  {
   "cell_type": "code",
   "execution_count": 9,
   "metadata": {},
   "outputs": [],
   "source": [
    "#5)"
   ]
  },
  {
   "cell_type": "code",
   "execution_count": 10,
   "metadata": {},
   "outputs": [
    {
     "name": "stdout",
     "output_type": "stream",
     "text": [
      "True\n",
      "True\n",
      "False\n"
     ]
    }
   ],
   "source": [
    "def is_triplet(a, b, c):\n",
    "    # Sort the three integers to find the largest\n",
    "    a, b, c = sorted([a, b, c])\n",
    "    \n",
    "    # Check if the sum of squares of the two smaller integers equals the square of the largest\n",
    "    return a**2 + b**2 == c**2\n",
    "\n",
    "# Test cases\n",
    "print(is_triplet(3, 4, 5))  # ➞ True\n",
    "print(is_triplet(13, 5, 12))  # ➞ True\n",
    "print(is_triplet(1, 2, 3))  # ➞ False"
   ]
  },
  {
   "cell_type": "code",
   "execution_count": null,
   "metadata": {},
   "outputs": [],
   "source": []
  }
 ],
 "metadata": {
  "kernelspec": {
   "display_name": "Python 3",
   "language": "python",
   "name": "python3"
  },
  "language_info": {
   "codemirror_mode": {
    "name": "ipython",
    "version": 3
   },
   "file_extension": ".py",
   "mimetype": "text/x-python",
   "name": "python",
   "nbconvert_exporter": "python",
   "pygments_lexer": "ipython3",
   "version": "3.8.5"
  }
 },
 "nbformat": 4,
 "nbformat_minor": 4
}
