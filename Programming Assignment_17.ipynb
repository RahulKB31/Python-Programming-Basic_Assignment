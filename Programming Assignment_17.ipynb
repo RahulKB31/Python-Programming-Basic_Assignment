{
 "cells": [
  {
   "cell_type": "markdown",
   "metadata": {},
   "source": [
    "# Programming Assignment_17"
   ]
  },
  {
   "cell_type": "code",
   "execution_count": 1,
   "metadata": {},
   "outputs": [],
   "source": [
    "#1)"
   ]
  },
  {
   "cell_type": "code",
   "execution_count": 2,
   "metadata": {},
   "outputs": [
    {
     "name": "stdout",
     "output_type": "stream",
     "text": [
      "0\n",
      "30\n",
      "18\n"
     ]
    }
   ],
   "source": [
    "def evenly_divisible(a, b, c):\n",
    "    sum_divisible = 0\n",
    "    for num in range(a, b + 1):\n",
    "        if num % c == 0:\n",
    "            sum_divisible += num\n",
    "    return sum_divisible\n",
    "\n",
    "# Examples\n",
    "print(evenly_divisible(1, 10, 20))  # Output: 0\n",
    "print(evenly_divisible(1, 10, 2))   # Output: 30\n",
    "print(evenly_divisible(1, 10, 3))   # Output: 18"
   ]
  },
  {
   "cell_type": "code",
   "execution_count": 3,
   "metadata": {},
   "outputs": [],
   "source": [
    "#2)"
   ]
  },
  {
   "cell_type": "code",
   "execution_count": 4,
   "metadata": {},
   "outputs": [
    {
     "name": "stdout",
     "output_type": "stream",
     "text": [
      "True\n",
      "False\n",
      "True\n"
     ]
    }
   ],
   "source": [
    "def correct_signs(expression):\n",
    "    # Use the eval function to evaluate the expression\n",
    "    return eval(expression)\n",
    "\n",
    "# Examples\n",
    "print(correct_signs(\"3 < 7 < 11\"))          # Output: True\n",
    "print(correct_signs(\"13 > 44 > 33 > 1\"))    # Output: False\n",
    "print(correct_signs(\"1 < 2 < 6 < 9 > 3\"))  # Output: True"
   ]
  },
  {
   "cell_type": "code",
   "execution_count": 5,
   "metadata": {},
   "outputs": [],
   "source": [
    "#3)"
   ]
  },
  {
   "cell_type": "code",
   "execution_count": 6,
   "metadata": {},
   "outputs": [
    {
     "name": "stdout",
     "output_type": "stream",
     "text": [
      "th# ##rdv#rk\n",
      "m?nn?? m??s?\n",
      "sh*k*sp**r*\n"
     ]
    }
   ],
   "source": [
    "def replace_vowels(input_str, replace_char):\n",
    "    vowels = \"AEIOUaeiou\"\n",
    "    result_str = \"\"\n",
    "\n",
    "    for char in input_str:\n",
    "        if char in vowels:\n",
    "            result_str += replace_char\n",
    "        else:\n",
    "            result_str += char\n",
    "\n",
    "    return result_str\n",
    "\n",
    "# Examples\n",
    "print(replace_vowels(\"the aardvark\", \"#\"))    # Output: \"th# ##rdv#rk\"\n",
    "print(replace_vowels(\"minnie mouse\", \"?\"))    # Output: \"m?nn?? m??s?\"\n",
    "print(replace_vowels(\"shakespeare\", \"*\"))      # Output: \"sh*k*sp**r*\""
   ]
  },
  {
   "cell_type": "code",
   "execution_count": null,
   "metadata": {},
   "outputs": [],
   "source": [
    "#4)"
   ]
  },
  {
   "cell_type": "code",
   "execution_count": 7,
   "metadata": {},
   "outputs": [
    {
     "name": "stdout",
     "output_type": "stream",
     "text": [
      "120\n",
      "6\n",
      "1\n",
      "1\n"
     ]
    }
   ],
   "source": [
    "def factorial(n):\n",
    "    if n == 0:\n",
    "        return 1\n",
    "    else:\n",
    "        return n * factorial(n - 1)\n",
    "\n",
    "# Examples\n",
    "print(factorial(5))  # Output: 120\n",
    "print(factorial(3))  # Output: 6\n",
    "print(factorial(1))  # Output: 1\n",
    "print(factorial(0))  # Output: 1"
   ]
  },
  {
   "cell_type": "code",
   "execution_count": null,
   "metadata": {},
   "outputs": [],
   "source": [
    "#5)"
   ]
  },
  {
   "cell_type": "code",
   "execution_count": 8,
   "metadata": {},
   "outputs": [
    {
     "name": "stdout",
     "output_type": "stream",
     "text": [
      "5\n",
      "0\n",
      "1\n"
     ]
    }
   ],
   "source": [
    "def hamming_distance(str1, str2):\n",
    "    # Check if the strings have the same length\n",
    "    if len(str1) != len(str2):\n",
    "        raise ValueError(\"Strings must have the same length\")\n",
    "    \n",
    "    distance = 0\n",
    "    \n",
    "    for i in range(len(str1)):\n",
    "        if str1[i] != str2[i]:\n",
    "            distance += 1\n",
    "    \n",
    "    return distance\n",
    "\n",
    "# Examples\n",
    "print(hamming_distance(\"abcde\", \"bcdef\"))    # Output: 5\n",
    "print(hamming_distance(\"abcde\", \"abcde\"))    # Output: 0\n",
    "print(hamming_distance(\"strong\", \"strung\"))  # Output: 1"
   ]
  },
  {
   "cell_type": "code",
   "execution_count": null,
   "metadata": {},
   "outputs": [],
   "source": []
  }
 ],
 "metadata": {
  "kernelspec": {
   "display_name": "Python 3",
   "language": "python",
   "name": "python3"
  },
  "language_info": {
   "codemirror_mode": {
    "name": "ipython",
    "version": 3
   },
   "file_extension": ".py",
   "mimetype": "text/x-python",
   "name": "python",
   "nbconvert_exporter": "python",
   "pygments_lexer": "ipython3",
   "version": "3.8.5"
  }
 },
 "nbformat": 4,
 "nbformat_minor": 4
}
