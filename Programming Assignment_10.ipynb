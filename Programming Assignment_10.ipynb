{
 "cells": [
  {
   "cell_type": "markdown",
   "metadata": {},
   "source": [
    "# Programming Assignment_10"
   ]
  },
  {
   "cell_type": "raw",
   "metadata": {},
   "source": [
    "1.\tWrite a Python program to find sum of elements in list?"
   ]
  },
  {
   "cell_type": "code",
   "execution_count": 7,
   "metadata": {},
   "outputs": [
    {
     "name": "stdout",
     "output_type": "stream",
     "text": [
      "21\n"
     ]
    }
   ],
   "source": [
    "a = [1,2,3,4,5,6]\n",
    "\n",
    "total = 0\n",
    "\n",
    "for i in range(0,len(a)):\n",
    "    total = total + a[i]\n",
    "    \n",
    "print(total)"
   ]
  },
  {
   "cell_type": "raw",
   "metadata": {},
   "source": [
    "2.\tWrite a Python program to  Multiply all numbers in the list?"
   ]
  },
  {
   "cell_type": "code",
   "execution_count": 9,
   "metadata": {},
   "outputs": [
    {
     "name": "stdout",
     "output_type": "stream",
     "text": [
      "720\n"
     ]
    }
   ],
   "source": [
    "a = [1,2,3,4,5,6]\n",
    "\n",
    "total = 1\n",
    "\n",
    "for i in range(0,len(a)):\n",
    "    total = total * a[i]\n",
    "    \n",
    "print(total)"
   ]
  },
  {
   "cell_type": "raw",
   "metadata": {},
   "source": [
    "3.\tWrite a Python program to find smallest number in a list?"
   ]
  },
  {
   "cell_type": "code",
   "execution_count": 15,
   "metadata": {},
   "outputs": [
    {
     "name": "stdout",
     "output_type": "stream",
     "text": [
      "The Smallest Number is  1\n"
     ]
    }
   ],
   "source": [
    "a = [1,2,3,4,5,6]\n",
    "\n",
    "for i in range(0,len(a)):\n",
    "    if a[i] == min(a):\n",
    "        print('The Smallest Number is ',a[i])"
   ]
  },
  {
   "cell_type": "raw",
   "metadata": {},
   "source": [
    "4.\tWrite a Python program to find largest number in a list?"
   ]
  },
  {
   "cell_type": "code",
   "execution_count": 17,
   "metadata": {},
   "outputs": [
    {
     "name": "stdout",
     "output_type": "stream",
     "text": [
      "The Largest Number is  6\n"
     ]
    }
   ],
   "source": [
    "a = [1,2,3,4,5,6]\n",
    "\n",
    "for i in range(0,len(a)):\n",
    "    if a[i] == max(a):\n",
    "        print('The Largest Number is ',a[i])\n",
    "        "
   ]
  },
  {
   "cell_type": "raw",
   "metadata": {},
   "source": [
    "5.\tWrite a Python program to find second largest number in a list?"
   ]
  },
  {
   "cell_type": "code",
   "execution_count": 25,
   "metadata": {},
   "outputs": [
    {
     "name": "stdout",
     "output_type": "stream",
     "text": [
      "45\n"
     ]
    }
   ],
   "source": [
    "def findLargest(arr):\n",
    "    secondLargest = arr[0]\n",
    "    largest = arr[0]\n",
    "    for i in range(len(arr)):\n",
    "        if arr[i] > largest:\n",
    "            largest = arr[i]\n",
    "\n",
    "    for i in range(len(arr)):\n",
    "        if arr[i] > secondLargest and arr[i] != largest:\n",
    "            secondLargest = arr[i]\n",
    "\n",
    "    return secondLargest\n",
    "\n",
    "\n",
    "print(findLargest([10, 20, 4, 45, 99]))"
   ]
  },
  {
   "cell_type": "raw",
   "metadata": {},
   "source": [
    "6.\tWrite a Python program to find N largest elements from a list?"
   ]
  },
  {
   "cell_type": "code",
   "execution_count": 3,
   "metadata": {},
   "outputs": [
    {
     "name": "stdout",
     "output_type": "stream",
     "text": [
      "[54, 41]\n"
     ]
    }
   ],
   "source": [
    "def Nmaxelements(list1,N):\n",
    "    final_list = []\n",
    "    \n",
    "    for i in range(0,N):\n",
    "        max1 = 0\n",
    "        \n",
    "        for j in range(len(list1)):\n",
    "            if list1[j] > max1:\n",
    "                max1 = list1[j]\n",
    "                    \n",
    "        list1.remove(max1)\n",
    "        final_list.append(max1)\n",
    "        \n",
    "    print(final_list)\n",
    "    \n",
    "list1 = [2,3,6,41,34,54,5,7,8,9]\n",
    "N = 2\n",
    "Nmaxelements(list1,N)"
   ]
  },
  {
   "cell_type": "raw",
   "metadata": {},
   "source": [
    "7.\tWrite a Python program to print even numbers in a list?"
   ]
  },
  {
   "cell_type": "code",
   "execution_count": 4,
   "metadata": {},
   "outputs": [
    {
     "name": "stdout",
     "output_type": "stream",
     "text": [
      "2 32 524 45346 3464 "
     ]
    }
   ],
   "source": [
    "list1 = [2,32,43,524,45346,3464,345]\n",
    "num = 0\n",
    "\n",
    "while(num<len(list1)):\n",
    "    \n",
    "    if list1[num] %2 == 0:\n",
    "        print(list1[num], end=' ')\n",
    "    \n",
    "    num +=1"
   ]
  },
  {
   "cell_type": "raw",
   "metadata": {},
   "source": [
    "8.\tWrite a Python program to print odd numbers in a List?"
   ]
  },
  {
   "cell_type": "code",
   "execution_count": 7,
   "metadata": {},
   "outputs": [
    {
     "name": "stdout",
     "output_type": "stream",
     "text": [
      "0 3 7 9 10 11 "
     ]
    }
   ],
   "source": [
    "list1= [1,2,34,5,4,6,6,7,8,9,3,1]\n",
    "\n",
    "num = 0\n",
    "\n",
    "for i in range(len(list1)):\n",
    "    if list1[i]%2 != 0:\n",
    "        print(i, end=' ')"
   ]
  },
  {
   "cell_type": "raw",
   "metadata": {},
   "source": [
    "9.\tWrite a Python program to Remove empty List from List?"
   ]
  },
  {
   "cell_type": "code",
   "execution_count": 14,
   "metadata": {},
   "outputs": [
    {
     "name": "stdout",
     "output_type": "stream",
     "text": [
      "1 2 3 4 5 11 2 "
     ]
    }
   ],
   "source": [
    "list1 = [1,2,3,4,5,[],11,[],2]\n",
    "\n",
    "for i in list1:\n",
    "    if i != []:\n",
    "        print(i, end=' ')"
   ]
  },
  {
   "cell_type": "raw",
   "metadata": {},
   "source": [
    "10.\tWrite a Python program to Cloning or Copying a list?"
   ]
  },
  {
   "cell_type": "code",
   "execution_count": 17,
   "metadata": {},
   "outputs": [
    {
     "name": "stdout",
     "output_type": "stream",
     "text": [
      "Orginal list [1, 2, 3, 4, 5, 6, 7, 8, 9, 0]\n",
      "\n",
      "After cloning [1, 2, 3, 4, 5, 6, 7, 8, 9, 0]\n"
     ]
    }
   ],
   "source": [
    "def cloning(list1):\n",
    "    list_copy = list1[:]\n",
    "    return list_copy\n",
    "\n",
    "list1 = [1,2,3,4,5,6,7,8,9,0]\n",
    "list2 = cloning(list1)\n",
    "print(\"Orginal list\",list1)\n",
    "print(\"\\nAfter cloning\",list2)"
   ]
  },
  {
   "cell_type": "raw",
   "metadata": {},
   "source": [
    "11.\tWrite a Python program to Count occurrences of an element in a list?"
   ]
  },
  {
   "cell_type": "code",
   "execution_count": 23,
   "metadata": {},
   "outputs": [
    {
     "name": "stdout",
     "output_type": "stream",
     "text": [
      "9 has occured 2 times\n"
     ]
    }
   ],
   "source": [
    "def countx(list1,x):\n",
    "    count = 0\n",
    "    \n",
    "    for i in list1:\n",
    "        if (i==x):\n",
    "            count +=1\n",
    "    return count\n",
    "\n",
    "list1 = [1,2,3,4,5,6,7,7,8,9,9]\n",
    "x = 9\n",
    "print(f\"{x} has occured {countx(list1,x)} times\")\n"
   ]
  },
  {
   "cell_type": "code",
   "execution_count": null,
   "metadata": {},
   "outputs": [],
   "source": []
  },
  {
   "cell_type": "code",
   "execution_count": null,
   "metadata": {},
   "outputs": [],
   "source": []
  }
 ],
 "metadata": {
  "kernelspec": {
   "display_name": "Python 3",
   "language": "python",
   "name": "python3"
  },
  "language_info": {
   "codemirror_mode": {
    "name": "ipython",
    "version": 3
   },
   "file_extension": ".py",
   "mimetype": "text/x-python",
   "name": "python",
   "nbconvert_exporter": "python",
   "pygments_lexer": "ipython3",
   "version": "3.8.5"
  }
 },
 "nbformat": 4,
 "nbformat_minor": 4
}
