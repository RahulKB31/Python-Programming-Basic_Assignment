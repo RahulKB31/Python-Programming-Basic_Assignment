{
 "cells": [
  {
   "cell_type": "markdown",
   "metadata": {},
   "source": [
    "# Programming Assignment_12"
   ]
  },
  {
   "cell_type": "raw",
   "metadata": {},
   "source": [
    "1.\tWrite a Python program to Extract Unique values dictionary values?"
   ]
  },
  {
   "cell_type": "code",
   "execution_count": 26,
   "metadata": {},
   "outputs": [
    {
     "name": "stdout",
     "output_type": "stream",
     "text": [
      "[10, 12, 32, 43, 234, 545]\n"
     ]
    }
   ],
   "source": [
    "test = {'gfg':[12,32,12,234,43],\n",
    "       'is': [10,12,12,43,545]}\n",
    "\n",
    "test1 = list(sorted({i for v in test.values() for i in v}))\n",
    "\n",
    "print(test1)"
   ]
  },
  {
   "cell_type": "raw",
   "metadata": {},
   "source": [
    "2.\tWrite a Python program to find the sum of all items in a dictionary?"
   ]
  },
  {
   "cell_type": "code",
   "execution_count": 27,
   "metadata": {},
   "outputs": [
    {
     "name": "stdout",
     "output_type": "stream",
     "text": [
      "600\n"
     ]
    }
   ],
   "source": [
    "def returnsum(dic):\n",
    "    sum = 0\n",
    "    for i in dic.values():\n",
    "        sum = sum + i\n",
    "        \n",
    "    return sum\n",
    "\n",
    "d = {'a': 100, 'b':200, 'c':300}\n",
    "print(returnsum(d))"
   ]
  },
  {
   "cell_type": "raw",
   "metadata": {},
   "source": [
    "3.\tWrite a Python program to Merging two Dictionaries?"
   ]
  },
  {
   "cell_type": "code",
   "execution_count": 29,
   "metadata": {},
   "outputs": [
    {
     "name": "stdout",
     "output_type": "stream",
     "text": [
      "None\n",
      "{'b': 10, 'a': 10}\n"
     ]
    }
   ],
   "source": [
    "def Merge(dic1,dic2):\n",
    "    return dic2.update(dic1)\n",
    "\n",
    "dic1 = {'a':10}\n",
    "dic2 = {'b':10}\n",
    "\n",
    "print(Merge(dic1,dic2))\n",
    "print(dic2)"
   ]
  },
  {
   "cell_type": "raw",
   "metadata": {},
   "source": [
    "4.\tWrite a Python program to convert key-values list to flat dictionary?"
   ]
  },
  {
   "cell_type": "code",
   "execution_count": 30,
   "metadata": {},
   "outputs": [
    {
     "name": "stdout",
     "output_type": "stream",
     "text": [
      "{1: 'jan', 2: 'feb', 3: 'march'}\n"
     ]
    }
   ],
   "source": [
    "from itertools import product\n",
    "\n",
    "test_dic = {'mont':[1,2,3],\n",
    "           'name':['jan','feb','march']}\n",
    "\n",
    "res =  dict(zip(test_dic['mont'],test_dic['name']))\n",
    "\n",
    "print(str(res))"
   ]
  },
  {
   "cell_type": "raw",
   "metadata": {},
   "source": [
    "5.\tWrite a Python program to insertion at the beginning in OrderedDict?"
   ]
  },
  {
   "cell_type": "code",
   "execution_count": 33,
   "metadata": {},
   "outputs": [
    {
     "name": "stdout",
     "output_type": "stream",
     "text": [
      "OrderedDict([('a', '1'), ('b', '2')])\n",
      "OrderedDict([('a', '1'), ('b', '2'), ('m', 3)])\n"
     ]
    }
   ],
   "source": [
    "from collections import OrderedDict\n",
    "\n",
    "dic1 = OrderedDict([{'a','1'},('b','2')])\n",
    "\n",
    "dic1.update({'m':3})\n",
    "dic1.move_to_end('m',last = True)\n",
    "\n",
    "print(str(dic1))"
   ]
  },
  {
   "cell_type": "raw",
   "metadata": {},
   "source": [
    "6.\tWrite a Python program to check order of character in string using OrderedDict()?"
   ]
  },
  {
   "cell_type": "code",
   "execution_count": 63,
   "metadata": {},
   "outputs": [
    {
     "name": "stdout",
     "output_type": "stream",
     "text": [
      "False\n"
     ]
    }
   ],
   "source": [
    "from collections import OrderedDict\n",
    "\n",
    "def checkorder(input,pattern):\n",
    "    dict = OrderedDict.fromkeys(input)\n",
    "    \n",
    "    patt = 0\n",
    "    for v in dict.values():\n",
    "        if v == pattern[patt]:\n",
    "            patt += 1\n",
    "            \n",
    "        if (patt == len(pattern)):\n",
    "            return True\n",
    "\n",
    "    return False\n",
    "\n",
    "if __name__ == '__main__':\n",
    "    input = 'engineering'\n",
    "    pattern = 'e'\n",
    "    print(checkorder(input,pattern))"
   ]
  },
  {
   "cell_type": "raw",
   "metadata": {},
   "source": [
    "7.\tWrite a Python program to sort Python Dictionaries by Key or Value?"
   ]
  },
  {
   "cell_type": "code",
   "execution_count": 65,
   "metadata": {},
   "outputs": [
    {
     "name": "stdout",
     "output_type": "stream",
     "text": [
      "(1, 2) (2, 56) (3, 45) "
     ]
    }
   ],
   "source": [
    "def dictionary():\n",
    "    \n",
    "    key_value = {}\n",
    "    \n",
    "    key_value[2]=56\n",
    "    key_value[1]=2\n",
    "    key_value[3]=45\n",
    "    \n",
    "    for i in sorted(key_value):\n",
    "        print((i,key_value[i]), end=' ')\n",
    "        \n",
    "def main():\n",
    "    dictionary()\n",
    "    \n",
    "if __name__ == '__main__':\n",
    "    main()"
   ]
  },
  {
   "cell_type": "code",
   "execution_count": null,
   "metadata": {},
   "outputs": [],
   "source": []
  },
  {
   "cell_type": "code",
   "execution_count": null,
   "metadata": {},
   "outputs": [],
   "source": []
  }
 ],
 "metadata": {
  "kernelspec": {
   "display_name": "Python 3",
   "language": "python",
   "name": "python3"
  },
  "language_info": {
   "codemirror_mode": {
    "name": "ipython",
    "version": 3
   },
   "file_extension": ".py",
   "mimetype": "text/x-python",
   "name": "python",
   "nbconvert_exporter": "python",
   "pygments_lexer": "ipython3",
   "version": "3.8.5"
  }
 },
 "nbformat": 4,
 "nbformat_minor": 4
}
